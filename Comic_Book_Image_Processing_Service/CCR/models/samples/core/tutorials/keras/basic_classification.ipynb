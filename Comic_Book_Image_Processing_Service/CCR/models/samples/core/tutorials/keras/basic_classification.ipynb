version https://git-lfs.github.com/spec/v1
oid sha256:0dd6e46c20b0e94a98b45a64aa70d99748e7c72ea95295d7f422bc128b2c5eb8
size 4654
