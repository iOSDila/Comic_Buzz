version https://git-lfs.github.com/spec/v1
oid sha256:a257e14c71baf9b9b9454c6d84a0c4504e7a8279f85e08909ab542938abb5fed
size 42514
